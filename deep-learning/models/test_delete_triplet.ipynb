{
 "cells": [
  {
   "cell_type": "code",
   "execution_count": 1,
   "metadata": {},
   "outputs": [
    {
     "name": "stdout",
     "output_type": "stream",
     "text": [
      "Total amount of images: 354\n",
      "data_train:  (2465, 2, 224, 224, 3)\n",
      "data_val:  (308, 2, 224, 224, 3)\n",
      "data_test:  (309, 2, 224, 224, 3)\n"
     ]
    }
   ],
   "source": [
    "import sys\n",
    "sys.path.append('../utility')\n",
    "import util\n",
    "import numpy as np\n",
    "\n",
    "folders = util.load_images('../data/dataset_pairs')\n",
    "# anchor, positive, negative = util.create_triplets_v2(folders)\n",
    "data, labels = util.create_pairs_v2(folders)\n",
    "data, labels = util.shuffle_data(data, labels)\n",
    "data_split, labels_split = util.split_data(data, labels)\n",
    "data_train, data_val, data_test = data_split\n",
    "labels_train, labels_val, labels_test = labels_split\n",
    "\n",
    "print(\"data_train: \", data_train.shape)\n",
    "print(\"data_val: \", data_val.shape)\n",
    "print(\"data_test: \", data_test.shape)\n",
    "\n",
    "# print(\"Anchor: \", anchor.shape)\n",
    "# print(\"Positive: \", positive.shape)\n",
    "# print(\"Negative: \", negative.shape)"
   ]
  },
  {
   "cell_type": "code",
   "execution_count": 2,
   "metadata": {},
   "outputs": [
    {
     "ename": "NameError",
     "evalue": "name 'anchor' is not defined",
     "output_type": "error",
     "traceback": [
      "\u001b[1;31m---------------------------------------------------------------------------\u001b[0m",
      "\u001b[1;31mNameError\u001b[0m                                 Traceback (most recent call last)",
      "\u001b[1;32m~\\AppData\\Local\\Temp/ipykernel_14408/2269908465.py\u001b[0m in \u001b[0;36m<module>\u001b[1;34m\u001b[0m\n\u001b[0;32m      1\u001b[0m \u001b[0mindex\u001b[0m \u001b[1;33m=\u001b[0m \u001b[1;36m9\u001b[0m\u001b[1;33m\u001b[0m\u001b[1;33m\u001b[0m\u001b[0m\n\u001b[1;32m----> 2\u001b[1;33m \u001b[0mutil\u001b[0m\u001b[1;33m.\u001b[0m\u001b[0mvisualize_images\u001b[0m\u001b[1;33m(\u001b[0m\u001b[0manchor\u001b[0m\u001b[1;33m[\u001b[0m\u001b[0mindex\u001b[0m\u001b[1;33m]\u001b[0m\u001b[1;33m,\u001b[0m \u001b[0mpositive\u001b[0m\u001b[1;33m[\u001b[0m\u001b[0mindex\u001b[0m\u001b[1;33m]\u001b[0m\u001b[1;33m,\u001b[0m \u001b[0mnegative\u001b[0m\u001b[1;33m[\u001b[0m\u001b[0mindex\u001b[0m\u001b[1;33m]\u001b[0m\u001b[1;33m)\u001b[0m\u001b[1;33m\u001b[0m\u001b[1;33m\u001b[0m\u001b[0m\n\u001b[0m",
      "\u001b[1;31mNameError\u001b[0m: name 'anchor' is not defined"
     ]
    }
   ],
   "source": [
    "index = 9\n",
    "util.visualize_images(anchor[index], positive[index], negative[index])"
   ]
  }
 ],
 "metadata": {
  "interpreter": {
   "hash": "94d900f1df5af671925839496de2cbe1f48e248a2444cae36291d13b2c320bbb"
  },
  "kernelspec": {
   "display_name": "Python 3.9.7 ('base')",
   "language": "python",
   "name": "python3"
  },
  "language_info": {
   "codemirror_mode": {
    "name": "ipython",
    "version": 3
   },
   "file_extension": ".py",
   "mimetype": "text/x-python",
   "name": "python",
   "nbconvert_exporter": "python",
   "pygments_lexer": "ipython3",
   "version": "3.9.7"
  },
  "orig_nbformat": 4
 },
 "nbformat": 4,
 "nbformat_minor": 2
}
